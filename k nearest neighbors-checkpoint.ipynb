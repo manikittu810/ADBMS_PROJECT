{
 "cells": [
  {
   "cell_type": "code",
   "execution_count": 1,
   "id": "a0180eb6",
   "metadata": {},
   "outputs": [
    {
     "name": "stdout",
     "output_type": "stream",
     "text": [
      "Fitting 5 folds for each of 12 candidates, totalling 60 fits\n",
      "Best Parameters: {'n_neighbors': 7, 'p': 1, 'weights': 'uniform'}\n",
      "Best Score: -90.56684129639771\n",
      "K-Nearest Neighbors MSE: 2432550470.9831862\n",
      "Predicted rent: [2556.42857143]\n"
     ]
    }
   ],
   "source": [
    "# Import necessary libraries\n",
    "import pandas as pd\n",
    "from sklearn.model_selection import train_test_split, GridSearchCV\n",
    "from sklearn.preprocessing import OneHotEncoder, StandardScaler\n",
    "from sklearn.neighbors import KNeighborsRegressor\n",
    "from sklearn.metrics import mean_squared_error\n",
    "\n",
    "# Load the data\n",
    "df = pd.read_csv('houseRent.csv')\n",
    "\n",
    "# Split the data into features (X) and target variable (y)\n",
    "X = df[['type', 'state', 'baths', 'beds', 'sqfeet']]\n",
    "y = df['price']\n",
    "\n",
    "# One-hot encode categorical features\n",
    "ohe = OneHotEncoder()\n",
    "X_cat = ohe.fit_transform(X[['type', 'state']])\n",
    "X_cat = pd.DataFrame(X_cat.toarray(), columns=ohe.get_feature_names_out(['type', 'state']))\n",
    "\n",
    "# Scale numerical features\n",
    "scaler = StandardScaler()\n",
    "X_num = scaler.fit_transform(X[['baths', 'beds', 'sqfeet']])\n",
    "X_num = pd.DataFrame(X_num, columns=['baths', 'beds', 'sqfeet'])\n",
    "\n",
    "# Combine the categorical and numerical features\n",
    "X = pd.concat([X_cat, X_num], axis=1)\n",
    "\n",
    "# Split the data into training and testing sets\n",
    "X_train, X_test, y_train, y_test = train_test_split(X, y, test_size=0.2, random_state=42)\n",
    "\n",
    "# Fine-tune the model using Grid Search\n",
    "param_grid = {\n",
    "    'n_neighbors': [3, 5, 7],\n",
    "    'weights': ['uniform', 'distance'],\n",
    "    'p': [1, 2]\n",
    "}\n",
    "\n",
    "knn = KNeighborsRegressor()\n",
    "\n",
    "grid_search = GridSearchCV(estimator=knn, param_grid=param_grid, cv=5, n_jobs=-1, verbose=2)\n",
    "grid_search.fit(X_train, y_train)\n",
    "\n",
    "# Get the best parameters and best score from the grid search\n",
    "print('Best Parameters:', grid_search.best_params_)\n",
    "print('Best Score:', grid_search.best_score_)\n",
    "\n",
    "# Fit the model with the best hyperparameters\n",
    "knn = KNeighborsRegressor(**grid_search.best_params_)\n",
    "knn.fit(X_train, y_train)\n",
    "\n",
    "# Make predictions on the test set\n",
    "knn_pred = knn.predict(X_test)\n",
    "\n",
    "# Evaluate the model using Mean Squared Error\n",
    "knn_mse = mean_squared_error(y_test, knn_pred)\n",
    "print('K-Nearest Neighbors MSE:', knn_mse)\n",
    "\n",
    "# Make predictions on new data\n",
    "new_data = pd.DataFrame({\n",
    "    'type': ['house'],\n",
    "    'state': ['ca'],\n",
    "    'baths': [1],\n",
    "    'beds': [2],\n",
    "    'sqfeet': [1000]\n",
    "})\n",
    "new_data_cat = ohe.transform(new_data[['type', 'state']])\n",
    "new_data_cat = pd.DataFrame(new_data_cat.toarray(), columns=ohe.get_feature_names_out(['type', 'state']))\n",
    "new_data_num = new_data[['baths', 'beds', 'sqfeet']]\n",
    "new_data_num = scaler.transform(new_data_num)\n",
    "new_data_num = pd.DataFrame(new_data_num, columns=['baths', 'beds', 'sqfeet'])\n",
    "new_data = pd.concat([new_data_cat, new_data_num], axis=1)\n",
    "prediction = knn.predict(new_data)\n",
    "print('Predicted rent:', prediction)\n"
   ]
  },
  {
   "cell_type": "code",
   "execution_count": null,
   "id": "1d7e77e7",
   "metadata": {},
   "outputs": [],
   "source": []
  }
 ],
 "metadata": {
  "kernelspec": {
   "display_name": "Python 3 (ipykernel)",
   "language": "python",
   "name": "python3"
  },
  "language_info": {
   "codemirror_mode": {
    "name": "ipython",
    "version": 3
   },
   "file_extension": ".py",
   "mimetype": "text/x-python",
   "name": "python",
   "nbconvert_exporter": "python",
   "pygments_lexer": "ipython3",
   "version": "3.10.9"
  }
 },
 "nbformat": 4,
 "nbformat_minor": 5
}
