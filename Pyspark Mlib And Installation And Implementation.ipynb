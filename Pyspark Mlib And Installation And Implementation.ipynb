{
 "cells": [
  {
   "cell_type": "markdown",
   "id": "73ea07e6",
   "metadata": {},
   "source": [
    "# using salary and age predict the salary\n",
    "# Example 0f Pyspark ML"
   ]
  },
  {
   "cell_type": "code",
   "execution_count": 1,
   "id": "53e4b261",
   "metadata": {},
   "outputs": [],
   "source": [
    "from pyspark.sql import SparkSession"
   ]
  },
  {
   "cell_type": "code",
   "execution_count": 2,
   "id": "aecfd161",
   "metadata": {},
   "outputs": [],
   "source": [
    "spark = SparkSession.builder.appName('Missing').getOrCreate()"
   ]
  },
  {
   "cell_type": "code",
   "execution_count": 3,
   "id": "39a37df6",
   "metadata": {},
   "outputs": [],
   "source": [
    "## in the Spark ML there are two techniques \n",
    "## 1. RDD technique,2.DataFrame API"
   ]
  },
  {
   "cell_type": "code",
   "execution_count": 4,
   "id": "13aa3f4a",
   "metadata": {},
   "outputs": [],
   "source": [
    "import csv\n",
    "import random\n",
    "\n",
    "with open('employee_data.csv', mode='w', newline='') as file:\n",
    "    writer = csv.writer(file)\n",
    "    writer.writerow(['name', 'salary', 'age', 'experience'])\n",
    "    for i in range(20):\n",
    "        name = f'Employee{i+1}'\n",
    "        salary = random.randint(40000, 100000)\n",
    "        age = random.randint(25, 50)\n",
    "        experience = random.randint(1, 11)\n",
    "        writer.writerow([name, salary, age, experience])\n"
   ]
  },
  {
   "cell_type": "code",
   "execution_count": 5,
   "id": "63bab2fd",
   "metadata": {},
   "outputs": [],
   "source": [
    "# read the dataset \n",
    "training = spark.read.csv('employee_data.csv',header=True,inferSchema=True)"
   ]
  },
  {
   "cell_type": "code",
   "execution_count": 6,
   "id": "60fe212e",
   "metadata": {},
   "outputs": [
    {
     "name": "stdout",
     "output_type": "stream",
     "text": [
      "+----------+------+---+----------+\n",
      "|      name|salary|age|experience|\n",
      "+----------+------+---+----------+\n",
      "| Employee1| 53099| 31|         4|\n",
      "| Employee2| 56674| 48|         4|\n",
      "| Employee3| 52554| 34|         1|\n",
      "| Employee4| 40455| 28|         5|\n",
      "| Employee5| 67486| 28|         5|\n",
      "| Employee6| 84934| 36|        10|\n",
      "| Employee7| 94830| 37|         8|\n",
      "| Employee8| 73575| 26|        11|\n",
      "| Employee9| 65166| 41|         2|\n",
      "|Employee10| 98356| 43|        10|\n",
      "|Employee11| 93948| 49|         1|\n",
      "|Employee12| 56675| 33|         8|\n",
      "|Employee13| 93428| 43|         4|\n",
      "|Employee14| 72495| 30|         5|\n",
      "|Employee15| 74599| 27|         4|\n",
      "|Employee16| 89258| 50|         4|\n",
      "|Employee17| 41857| 29|         2|\n",
      "|Employee18| 80670| 25|         6|\n",
      "|Employee19| 97576| 50|         7|\n",
      "|Employee20| 50685| 31|         8|\n",
      "+----------+------+---+----------+\n",
      "\n"
     ]
    }
   ],
   "source": [
    "training.show()"
   ]
  },
  {
   "cell_type": "code",
   "execution_count": 7,
   "id": "b320b4c9",
   "metadata": {},
   "outputs": [
    {
     "name": "stdout",
     "output_type": "stream",
     "text": [
      "root\n",
      " |-- name: string (nullable = true)\n",
      " |-- salary: integer (nullable = true)\n",
      " |-- age: integer (nullable = true)\n",
      " |-- experience: integer (nullable = true)\n",
      "\n"
     ]
    }
   ],
   "source": [
    "training.printSchema()"
   ]
  },
  {
   "cell_type": "code",
   "execution_count": 8,
   "id": "de9f17a9",
   "metadata": {},
   "outputs": [
    {
     "data": {
      "text/plain": [
       "['name', 'salary', 'age', 'experience']"
      ]
     },
     "execution_count": 8,
     "metadata": {},
     "output_type": "execute_result"
    }
   ],
   "source": [
    "training.columns"
   ]
  },
  {
   "cell_type": "code",
   "execution_count": 9,
   "id": "03c20932",
   "metadata": {},
   "outputs": [],
   "source": [
    "from pyspark.ml.feature import VectorAssembler\n",
    "featureassembler=VectorAssembler(inputCols=['age','salary'],outputCol='Independent Features')"
   ]
  },
  {
   "cell_type": "code",
   "execution_count": 10,
   "id": "84a88dfe",
   "metadata": {},
   "outputs": [],
   "source": [
    "output=featureassembler.transform(training)"
   ]
  },
  {
   "cell_type": "code",
   "execution_count": 11,
   "id": "1a89c23d",
   "metadata": {},
   "outputs": [
    {
     "name": "stdout",
     "output_type": "stream",
     "text": [
      "+----------+------+---+----------+--------------------+\n",
      "|      name|salary|age|experience|Independent Features|\n",
      "+----------+------+---+----------+--------------------+\n",
      "| Employee1| 53099| 31|         4|      [31.0,53099.0]|\n",
      "| Employee2| 56674| 48|         4|      [48.0,56674.0]|\n",
      "| Employee3| 52554| 34|         1|      [34.0,52554.0]|\n",
      "| Employee4| 40455| 28|         5|      [28.0,40455.0]|\n",
      "| Employee5| 67486| 28|         5|      [28.0,67486.0]|\n",
      "| Employee6| 84934| 36|        10|      [36.0,84934.0]|\n",
      "| Employee7| 94830| 37|         8|      [37.0,94830.0]|\n",
      "| Employee8| 73575| 26|        11|      [26.0,73575.0]|\n",
      "| Employee9| 65166| 41|         2|      [41.0,65166.0]|\n",
      "|Employee10| 98356| 43|        10|      [43.0,98356.0]|\n",
      "|Employee11| 93948| 49|         1|      [49.0,93948.0]|\n",
      "|Employee12| 56675| 33|         8|      [33.0,56675.0]|\n",
      "|Employee13| 93428| 43|         4|      [43.0,93428.0]|\n",
      "|Employee14| 72495| 30|         5|      [30.0,72495.0]|\n",
      "|Employee15| 74599| 27|         4|      [27.0,74599.0]|\n",
      "|Employee16| 89258| 50|         4|      [50.0,89258.0]|\n",
      "|Employee17| 41857| 29|         2|      [29.0,41857.0]|\n",
      "|Employee18| 80670| 25|         6|      [25.0,80670.0]|\n",
      "|Employee19| 97576| 50|         7|      [50.0,97576.0]|\n",
      "|Employee20| 50685| 31|         8|      [31.0,50685.0]|\n",
      "+----------+------+---+----------+--------------------+\n",
      "\n"
     ]
    }
   ],
   "source": [
    "output.show()"
   ]
  },
  {
   "cell_type": "code",
   "execution_count": 12,
   "id": "5f7fc2f0",
   "metadata": {},
   "outputs": [
    {
     "data": {
      "text/plain": [
       "['name', 'salary', 'age', 'experience', 'Independent Features']"
      ]
     },
     "execution_count": 12,
     "metadata": {},
     "output_type": "execute_result"
    }
   ],
   "source": [
    "output.columns"
   ]
  },
  {
   "cell_type": "code",
   "execution_count": 13,
   "id": "3a00a55f",
   "metadata": {},
   "outputs": [],
   "source": [
    "finalized_data=output.select('Independent features','salary')"
   ]
  },
  {
   "cell_type": "code",
   "execution_count": 14,
   "id": "0cae9b41",
   "metadata": {},
   "outputs": [
    {
     "name": "stdout",
     "output_type": "stream",
     "text": [
      "+--------------------+------+\n",
      "|Independent features|salary|\n",
      "+--------------------+------+\n",
      "|      [31.0,53099.0]| 53099|\n",
      "|      [48.0,56674.0]| 56674|\n",
      "|      [34.0,52554.0]| 52554|\n",
      "|      [28.0,40455.0]| 40455|\n",
      "|      [28.0,67486.0]| 67486|\n",
      "|      [36.0,84934.0]| 84934|\n",
      "|      [37.0,94830.0]| 94830|\n",
      "|      [26.0,73575.0]| 73575|\n",
      "|      [41.0,65166.0]| 65166|\n",
      "|      [43.0,98356.0]| 98356|\n",
      "|      [49.0,93948.0]| 93948|\n",
      "|      [33.0,56675.0]| 56675|\n",
      "|      [43.0,93428.0]| 93428|\n",
      "|      [30.0,72495.0]| 72495|\n",
      "|      [27.0,74599.0]| 74599|\n",
      "|      [50.0,89258.0]| 89258|\n",
      "|      [29.0,41857.0]| 41857|\n",
      "|      [25.0,80670.0]| 80670|\n",
      "|      [50.0,97576.0]| 97576|\n",
      "|      [31.0,50685.0]| 50685|\n",
      "+--------------------+------+\n",
      "\n"
     ]
    }
   ],
   "source": [
    "finalized_data.show()"
   ]
  },
  {
   "cell_type": "code",
   "execution_count": 15,
   "id": "3c5acd5e",
   "metadata": {},
   "outputs": [],
   "source": [
    "from pyspark.ml.regression import LinearRegression\n",
    "# train test data\n",
    "train_data,test_data=finalized_data.randomSplit([0.75,0.25])\n",
    "regressor = LinearRegression(featuresCol='Independent features', labelCol ='salary')\n",
    "regressor = regressor.fit(train_data)"
   ]
  },
  {
   "cell_type": "code",
   "execution_count": 16,
   "id": "c78fedad",
   "metadata": {},
   "outputs": [
    {
     "data": {
      "text/plain": [
       "DenseVector([-0.0, 1.0])"
      ]
     },
     "execution_count": 16,
     "metadata": {},
     "output_type": "execute_result"
    }
   ],
   "source": [
    "## coefficients\n",
    "regressor.coefficients"
   ]
  },
  {
   "cell_type": "code",
   "execution_count": 17,
   "id": "a40d3a91",
   "metadata": {},
   "outputs": [
    {
     "data": {
      "text/plain": [
       "-6.104876229065598e-12"
      ]
     },
     "execution_count": 17,
     "metadata": {},
     "output_type": "execute_result"
    }
   ],
   "source": [
    "## Intercepts\n",
    "regressor.intercept"
   ]
  },
  {
   "cell_type": "code",
   "execution_count": 18,
   "id": "0febe631",
   "metadata": {},
   "outputs": [],
   "source": [
    "## prediction\n",
    "pred_results = regressor.evaluate(test_data)"
   ]
  },
  {
   "cell_type": "code",
   "execution_count": 19,
   "id": "0ebb74e0",
   "metadata": {},
   "outputs": [
    {
     "name": "stdout",
     "output_type": "stream",
     "text": [
      "+--------------------+------+-----------------+\n",
      "|Independent features|salary|       prediction|\n",
      "+--------------------+------+-----------------+\n",
      "|      [27.0,74599.0]| 74599|74599.00000000001|\n",
      "|      [29.0,41857.0]| 41857|41856.99999999999|\n",
      "|      [36.0,84934.0]| 84934|84934.00000000001|\n",
      "|      [49.0,93948.0]| 93948|93948.00000000001|\n",
      "+--------------------+------+-----------------+\n",
      "\n"
     ]
    }
   ],
   "source": [
    "pred_results.predictions.show()"
   ]
  },
  {
   "cell_type": "code",
   "execution_count": 20,
   "id": "71af6240",
   "metadata": {},
   "outputs": [
    {
     "data": {
      "text/plain": [
       "1.2732925824820995e-11"
      ]
     },
     "execution_count": 20,
     "metadata": {},
     "output_type": "execute_result"
    }
   ],
   "source": [
    "pred_results.meanAbsoluteError"
   ]
  },
  {
   "cell_type": "code",
   "execution_count": 21,
   "id": "519dc68f",
   "metadata": {},
   "outputs": [
    {
     "data": {
      "text/plain": [
       "1.7205356741102973e-22"
      ]
     },
     "execution_count": 21,
     "metadata": {},
     "output_type": "execute_result"
    }
   ],
   "source": [
    "pred_results.meanSquaredError"
   ]
  },
  {
   "cell_type": "code",
   "execution_count": null,
   "id": "86ac9eb3",
   "metadata": {},
   "outputs": [],
   "source": []
  }
 ],
 "metadata": {
  "kernelspec": {
   "display_name": "Python 3 (ipykernel)",
   "language": "python",
   "name": "python3"
  },
  "language_info": {
   "codemirror_mode": {
    "name": "ipython",
    "version": 3
   },
   "file_extension": ".py",
   "mimetype": "text/x-python",
   "name": "python",
   "nbconvert_exporter": "python",
   "pygments_lexer": "ipython3",
   "version": "3.10.9"
  }
 },
 "nbformat": 4,
 "nbformat_minor": 5
}
